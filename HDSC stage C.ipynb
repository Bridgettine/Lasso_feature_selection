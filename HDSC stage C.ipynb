{
 "cells": [
  {
   "cell_type": "code",
   "execution_count": 9,
   "id": "e50e85d3",
   "metadata": {},
   "outputs": [
    {
     "data": {
      "text/plain": [
       "unstable    6380\n",
       "stable      3620\n",
       "Name: stabf, dtype: int64"
      ]
     },
     "execution_count": 9,
     "metadata": {},
     "output_type": "execute_result"
    }
   ],
   "source": [
    "import pandas as pd\n",
    "df = pd.read_csv('C:/Users/HP/Downloads/Data_for_UCI_named.csv')\n",
    "df_2 = df.copy()\n",
    "df_2 = df_2.drop(columns= 'stab',axis=1)\n",
    "df_2.stabf.value_counts()"
   ]
  },
  {
   "cell_type": "code",
   "execution_count": 10,
   "id": "e6f4b4bc",
   "metadata": {},
   "outputs": [
    {
     "data": {
      "text/plain": [
       "<AxesSubplot:ylabel='stabf'>"
      ]
     },
     "execution_count": 10,
     "metadata": {},
     "output_type": "execute_result"
    },
    {
     "data": {
      "image/png": "[encoded data removed]",
      "text/plain": [
       "<Figure size 432x288 with 1 Axes>"
      ]
     },
     "metadata": {},
     "output_type": "display_data"
    }
   ],
   "source": [
    "from sklearn.model_selection import train_test_split\n",
    "from sklearn.preprocessing import StandardScaler\n",
    "from sklearn.model_selection import train_test_split\n",
    "import imblearn \n",
    "from imblearn.over_sampling import SMOTE \n",
    "from sklearn.metrics import recall_score, accuracy_score, precision_score, f1_score,confusion_matrix\n",
    "\n",
    "\n",
    "scaler = StandardScaler()\n",
    "X = df_2.drop(columns='stabf',axis =1)\n",
    "Y = df_2['stabf']\n",
    "Y.value_counts().plot.pie(autopct='%.1f')\n",
    "\n"
   ]
  },
  {
   "cell_type": "code",
   "execution_count": 11,
   "id": "c421fa93",
   "metadata": {},
   "outputs": [],
   "source": [
    "from sklearn.model_selection import train_test_split\n",
    "\n",
    "X_train, X_test, y_train, y_test = train_test_split(X, Y, test_size=0.2, random_state=42)"
   ]
  },
  {
   "cell_type": "code",
   "execution_count": 12,
   "id": "5974056e",
   "metadata": {},
   "outputs": [
    {
     "data": {
      "image/png": "[encoded data removed]",
      "text/plain": [
       "<Figure size 432x288 with 1 Axes>"
      ]
     },
     "metadata": {},
     "output_type": "display_data"
    }
   ],
   "source": [
    "#random oversampling\n",
    "from imblearn.over_sampling import RandomOverSampler\n",
    "\n",
    "ros = RandomOverSampler(sampling_strategy=1) # Float\n",
    "#ros = RandomOverSampler(sampling_strategy=\"not majority\") # String\n",
    "\n",
    "X_train_ros, y_train_ros = ros.fit_resample(X_train, y_train)\n",
    "\n",
    "ax = y_train_ros.value_counts().plot.pie(autopct='%.2f')\n",
    "_ = ax.set_title(\"Over-sampling\")\n",
    "\n",
    "X_train_scale = scaler.fit_transform(X_train_ros)\n",
    "X_train_scale =  pd.DataFrame(X_train_scale)\n",
    "\n",
    "X_test_scale = scaler.transform(X_test)\n",
    "X_test_scale = pd.DataFrame(X_test_scale)"
   ]
  },
  {
   "cell_type": "code",
   "execution_count": 13,
   "id": "3d232954",
   "metadata": {},
   "outputs": [
    {
     "name": "stdout",
     "output_type": "stream",
     "text": [
      "accuracy score: 0.9095\n",
      "Recall: 0.8932178932178932\n",
      "[[ 619   74]\n",
      " [ 107 1200]]\n"
     ]
    }
   ],
   "source": [
    "# Training Random Forest Models\n",
    "from sklearn.ensemble import RandomForestClassifier\n",
    "\n",
    "model = RandomForestClassifier(random_state=3)\n",
    "model.fit(X_train_scale , y_train_ros)\n",
    "\n",
    "#y_train_pred = model.predict(X_scaled)\n",
    "y_test_pred = model.predict(X_test_scale)\n",
    "\n",
    "\n",
    "#model performance\n",
    "print('accuracy score: {}'.format(accuracy_score(y_test,y_test_pred)))\n",
    "recall = recall_score(y_test,y_test_pred,pos_label = 'stable')\n",
    "print('Recall: {}'.format(recall))\n",
    " \n",
    "cnf_mat = confusion_matrix(y_test, y_test_pred,labels=['stable','unstable'])\n",
    "print(cnf_mat)"
   ]
  },
  {
   "cell_type": "code",
   "execution_count": 14,
   "id": "116fb1bd",
   "metadata": {},
   "outputs": [
    {
     "name": "stdout",
     "output_type": "stream",
     "text": [
      "accuracy score: 0.9095\n",
      "Recall: 0.8932178932178932\n",
      "[[ 619   74]\n",
      " [ 107 1200]]\n"
     ]
    }
   ],
   "source": [
    "from sklearn.tree import DecisionTreeClassifier \n",
    "dec_tree = DecisionTreeClassifier(random_state=1) \n",
    "dec_tree.fit(X_train_scale , y_train_ros)\n",
    "\n",
    "y_pred = dec_tree.predict(X_test_scale)\n",
    "\n",
    "#model performance\n",
    "print('accuracy score: {}'.format(accuracy_score(y_test,y_test_pred)))\n",
    "recall = recall_score(y_test,y_test_pred,pos_label = 'stable')\n",
    "print('Recall: {}'.format(recall))\n",
    " \n",
    "cnf_mat = confusion_matrix(y_test, y_test_pred,labels=['stable','unstable'])\n",
    "print(cnf_mat)"
   ]
  },
  {
   "cell_type": "code",
   "execution_count": 15,
   "id": "2362ddbd",
   "metadata": {},
   "outputs": [
    {
     "ename": "ValueError",
     "evalue": "not enough values to unpack (expected 2, got 1)",
     "output_type": "error",
     "traceback": [
      "\u001b[1;31m---------------------------------------------------------------------------\u001b[0m",
      "\u001b[1;31mValueError\u001b[0m                                Traceback (most recent call last)",
      "\u001b[1;32m~\\AppData\\Local\\Temp/ipykernel_3756/3739041347.py\u001b[0m in \u001b[0;36m<module>\u001b[1;34m\u001b[0m\n\u001b[0;32m      7\u001b[0m \u001b[1;32mfor\u001b[0m \u001b[0mtrain_index\u001b[0m\u001b[1;33m,\u001b[0m \u001b[0mtest_index\u001b[0m \u001b[1;32min\u001b[0m \u001b[0mskf\u001b[0m\u001b[1;33m.\u001b[0m\u001b[0msplit\u001b[0m\u001b[1;33m(\u001b[0m\u001b[0mX_train_scale\u001b[0m\u001b[1;33m,\u001b[0m \u001b[0my_train_ros\u001b[0m\u001b[1;33m)\u001b[0m\u001b[1;33m:\u001b[0m\u001b[1;33m\u001b[0m\u001b[1;33m\u001b[0m\u001b[0m\n\u001b[0;32m      8\u001b[0m \u001b[1;33m\u001b[0m\u001b[0m\n\u001b[1;32m----> 9\u001b[1;33m     \u001b[0mx_train\u001b[0m\u001b[1;33m,\u001b[0m \u001b[0mx_test\u001b[0m \u001b[1;33m=\u001b[0m \u001b[0mnp\u001b[0m\u001b[1;33m.\u001b[0m\u001b[0marray\u001b[0m\u001b[1;33m(\u001b[0m\u001b[0mX_train_scale\u001b[0m\u001b[1;33m)\u001b[0m\u001b[1;33m[\u001b[0m\u001b[0mtrain_index\u001b[0m\u001b[1;33m]\u001b[0m\u001b[1;33m,\u001b[0m\u001b[1;33m\u001b[0m\u001b[1;33m\u001b[0m\u001b[0m\n\u001b[0m\u001b[0;32m     10\u001b[0m     \u001b[0mnp\u001b[0m\u001b[1;33m.\u001b[0m\u001b[0marray\u001b[0m\u001b[1;33m(\u001b[0m\u001b[0mX_train_scale\u001b[0m\u001b[1;33m)\u001b[0m\u001b[1;33m[\u001b[0m\u001b[0mtest_index\u001b[0m\u001b[1;33m]\u001b[0m\u001b[1;33m\u001b[0m\u001b[1;33m\u001b[0m\u001b[0m\n\u001b[0;32m     11\u001b[0m     \u001b[0my_train\u001b[0m\u001b[1;33m,\u001b[0m \u001b[0my_test\u001b[0m \u001b[1;33m=\u001b[0m \u001b[0my_train_ros\u001b[0m\u001b[1;33m[\u001b[0m\u001b[0mtrain_index\u001b[0m\u001b[1;33m]\u001b[0m\u001b[1;33m,\u001b[0m \u001b[0my_train_ros\u001b[0m\u001b[1;33m[\u001b[0m\u001b[0mtest_index\u001b[0m\u001b[1;33m]\u001b[0m\u001b[1;33m\u001b[0m\u001b[1;33m\u001b[0m\u001b[0m\n",
      "\u001b[1;31mValueError\u001b[0m: not enough values to unpack (expected 2, got 1)"
     ]
    }
   ],
   "source": [
    "import numpy as np\n",
    "\n",
    "from sklearn.model_selection import StratifiedKFold \n",
    "skf = StratifiedKFold(n_splits= 5 , shuffle= True , random_state= 1 ) \n",
    "f1_scores = [] \n",
    "#run for every split \n",
    "for train_index, test_index in skf.split(X_train_scale, y_train_ros):\n",
    "    \n",
    "    x_train, x_test = np.array(X_train_scale)[train_index], \n",
    "    np.array(X_train_scale)[test_index] \n",
    "    y_train, y_test = y_train_ros[train_index], y_train_ros[test_index] \n",
    "    model = dec_tree().fit(x_train, y_train) \n",
    "    #save result to list \n",
    "    f1_scores.append(f1_score(y_true=y_test, y_pred=model.predict(X_test_scale), pos_label= 'stable' ))"
   ]
  },
  {
   "cell_type": "code",
   "execution_count": null,
   "id": "3ac13746",
   "metadata": {},
   "outputs": [],
   "source": [
    "skf = StratifiedKFold(n_splits=2, shuffle=True, random_state=1)\n",
    "ht = []\n",
    "\n",
    "\n",
    "for train_index, test_index in skf.split(X_train_scale,y_train_ros):\n",
    "    x_train_fold, x_test_fold = X_train_scale[train_index], X_test_scale[test_index]\n",
    "    y_train_fold, y_test_fold = y_train_ros[train_index], y_test[test_index]\n",
    "    model.fit(x_train_fold, y_train_fold)\n",
    "    ht.append(dec_tree.score(x_test_fold, y_test_fold))\n",
    "\n",
    "    \n",
    "# Print the output.\n",
    "print('List of possible accuracy:', ht)\n",
    "print('\\nMaximum Accuracy That can be obtained from this model is:',max(ht)*100, '%')\n",
    "print('\\nMinimum Accuracy:',\n",
    "      min(ht)*100, '%')\n",
    "print('\\nOverall Accuracy:',\n",
    "      mean(ht)*100, '%')\n",
    "print('\\nStandard Deviation is:', stdev(ht))    "
   ]
  },
  {
   "cell_type": "code",
   "execution_count": 21,
   "id": "d90b332b",
   "metadata": {},
   "outputs": [
    {
     "name": "stdout",
     "output_type": "stream",
     "text": [
      "Collecting xgboost\n",
      "  Downloading xgboost-1.7.2-py3-none-win_amd64.whl (89.1 MB)\n"
     ]
    },
    {
     "name": "stderr",
     "output_type": "stream",
     "text": [
      "ERROR: Exception:\n",
      "Traceback (most recent call last):\n",
      "  File \"C:\\Users\\HP\\anaconda3\\lib\\site-packages\\pip\\_vendor\\urllib3\\response.py\", line 438, in _error_catcher\n",
      "    yield\n",
      "  File \"C:\\Users\\HP\\anaconda3\\lib\\site-packages\\pip\\_vendor\\urllib3\\response.py\", line 519, in read\n",
      "    data = self._fp.read(amt) if not fp_closed else b\"\"\n",
      "  File \"C:\\Users\\HP\\anaconda3\\lib\\site-packages\\pip\\_vendor\\cachecontrol\\filewrapper.py\", line 62, in read\n",
      "    data = self.__fp.read(amt)\n",
      "  File \"C:\\Users\\HP\\anaconda3\\lib\\http\\client.py\", line 462, in read\n",
      "    n = self.readinto(b)\n",
      "  File \"C:\\Users\\HP\\anaconda3\\lib\\http\\client.py\", line 506, in readinto\n",
      "    n = self.fp.readinto(b)\n",
      "  File \"C:\\Users\\HP\\anaconda3\\lib\\socket.py\", line 704, in readinto\n",
      "    return self._sock.recv_into(b)\n",
      "  File \"C:\\Users\\HP\\anaconda3\\lib\\ssl.py\", line 1241, in recv_into\n",
      "    return self.read(nbytes, buffer)\n",
      "  File \"C:\\Users\\HP\\anaconda3\\lib\\ssl.py\", line 1099, in read\n",
      "    return self._sslobj.read(len, buffer)\n",
      "socket.timeout: The read operation timed out\n",
      "\n",
      "During handling of the above exception, another exception occurred:\n",
      "\n",
      "Traceback (most recent call last):\n",
      "  File \"C:\\Users\\HP\\anaconda3\\lib\\site-packages\\pip\\_internal\\cli\\base_command.py\", line 173, in _main\n",
      "    status = self.run(options, args)\n",
      "  File \"C:\\Users\\HP\\anaconda3\\lib\\site-packages\\pip\\_internal\\cli\\req_command.py\", line 203, in wrapper\n",
      "    return func(self, options, args)\n",
      "  File \"C:\\Users\\HP\\anaconda3\\lib\\site-packages\\pip\\_internal\\commands\\install.py\", line 315, in run\n",
      "    requirement_set = resolver.resolve(\n",
      "  File \"C:\\Users\\HP\\anaconda3\\lib\\site-packages\\pip\\_internal\\resolution\\resolvelib\\resolver.py\", line 94, in resolve\n",
      "    result = self._result = resolver.resolve(\n",
      "  File \"C:\\Users\\HP\\anaconda3\\lib\\site-packages\\pip\\_vendor\\resolvelib\\resolvers.py\", line 472, in resolve\n",
      "    state = resolution.resolve(requirements, max_rounds=max_rounds)\n",
      "  File \"C:\\Users\\HP\\anaconda3\\lib\\site-packages\\pip\\_vendor\\resolvelib\\resolvers.py\", line 341, in resolve\n",
      "    self._add_to_criteria(self.state.criteria, r, parent=None)\n",
      "  File \"C:\\Users\\HP\\anaconda3\\lib\\site-packages\\pip\\_vendor\\resolvelib\\resolvers.py\", line 172, in _add_to_criteria\n",
      "    if not criterion.candidates:\n",
      "  File \"C:\\Users\\HP\\anaconda3\\lib\\site-packages\\pip\\_vendor\\resolvelib\\structs.py\", line 151, in __bool__\n",
      "    return bool(self._sequence)\n",
      "  File \"C:\\Users\\HP\\anaconda3\\lib\\site-packages\\pip\\_internal\\resolution\\resolvelib\\found_candidates.py\", line 140, in __bool__\n",
      "    return any(self)\n",
      "  File \"C:\\Users\\HP\\anaconda3\\lib\\site-packages\\pip\\_internal\\resolution\\resolvelib\\found_candidates.py\", line 128, in <genexpr>\n",
      "    return (c for c in iterator if id(c) not in self._incompatible_ids)\n",
      "  File \"C:\\Users\\HP\\anaconda3\\lib\\site-packages\\pip\\_internal\\resolution\\resolvelib\\found_candidates.py\", line 32, in _iter_built\n",
      "    candidate = func()\n",
      "  File \"C:\\Users\\HP\\anaconda3\\lib\\site-packages\\pip\\_internal\\resolution\\resolvelib\\factory.py\", line 204, in _make_candidate_from_link\n",
      "    self._link_candidate_cache[link] = LinkCandidate(\n",
      "  File \"C:\\Users\\HP\\anaconda3\\lib\\site-packages\\pip\\_internal\\resolution\\resolvelib\\candidates.py\", line 295, in __init__\n",
      "    super().__init__(\n",
      "  File \"C:\\Users\\HP\\anaconda3\\lib\\site-packages\\pip\\_internal\\resolution\\resolvelib\\candidates.py\", line 156, in __init__\n",
      "    self.dist = self._prepare()\n",
      "  File \"C:\\Users\\HP\\anaconda3\\lib\\site-packages\\pip\\_internal\\resolution\\resolvelib\\candidates.py\", line 227, in _prepare\n",
      "    dist = self._prepare_distribution()\n",
      "  File \"C:\\Users\\HP\\anaconda3\\lib\\site-packages\\pip\\_internal\\resolution\\resolvelib\\candidates.py\", line 305, in _prepare_distribution\n",
      "    return self._factory.preparer.prepare_linked_requirement(\n",
      "  File \"C:\\Users\\HP\\anaconda3\\lib\\site-packages\\pip\\_internal\\operations\\prepare.py\", line 508, in prepare_linked_requirement\n",
      "    return self._prepare_linked_requirement(req, parallel_builds)\n",
      "  File \"C:\\Users\\HP\\anaconda3\\lib\\site-packages\\pip\\_internal\\operations\\prepare.py\", line 550, in _prepare_linked_requirement\n",
      "    local_file = unpack_url(\n",
      "  File \"C:\\Users\\HP\\anaconda3\\lib\\site-packages\\pip\\_internal\\operations\\prepare.py\", line 239, in unpack_url\n",
      "    file = get_http_url(\n",
      "  File \"C:\\Users\\HP\\anaconda3\\lib\\site-packages\\pip\\_internal\\operations\\prepare.py\", line 102, in get_http_url\n",
      "    from_path, content_type = download(link, temp_dir.path)\n",
      "  File \"C:\\Users\\HP\\anaconda3\\lib\\site-packages\\pip\\_internal\\network\\download.py\", line 145, in __call__\n",
      "    for chunk in chunks:\n",
      "  File \"C:\\Users\\HP\\anaconda3\\lib\\site-packages\\pip\\_internal\\cli\\progress_bars.py\", line 144, in iter\n",
      "    for x in it:\n",
      "  File \"C:\\Users\\HP\\anaconda3\\lib\\site-packages\\pip\\_internal\\network\\utils.py\", line 63, in response_chunks\n",
      "    for chunk in response.raw.stream(\n",
      "  File \"C:\\Users\\HP\\anaconda3\\lib\\site-packages\\pip\\_vendor\\urllib3\\response.py\", line 576, in stream\n",
      "    data = self.read(amt=amt, decode_content=decode_content)\n",
      "  File \"C:\\Users\\HP\\anaconda3\\lib\\site-packages\\pip\\_vendor\\urllib3\\response.py\", line 541, in read\n",
      "    raise IncompleteRead(self._fp_bytes_read, self.length_remaining)\n",
      "  File \"C:\\Users\\HP\\anaconda3\\lib\\contextlib.py\", line 137, in __exit__\n",
      "    self.gen.throw(typ, value, traceback)\n",
      "  File \"C:\\Users\\HP\\anaconda3\\lib\\site-packages\\pip\\_vendor\\urllib3\\response.py\", line 443, in _error_catcher\n",
      "    raise ReadTimeoutError(self._pool, None, \"Read timed out.\")\n",
      "pip._vendor.urllib3.exceptions.ReadTimeoutError: HTTPSConnectionPool(host='files.pythonhosted.org', port=443): Read timed out.\n"
     ]
    }
   ],
   "source": [
    "!pip install xgboost"
   ]
  },
  {
   "cell_type": "markdown",
   "id": "f6e4227d",
   "metadata": {},
   "source": [
    "# Xgboost and Lightgbm"
   ]
  },
  {
   "cell_type": "code",
   "execution_count": 20,
   "id": "4b2fccda",
   "metadata": {},
   "outputs": [
    {
     "ename": "ModuleNotFoundError",
     "evalue": "No module named 'xgboost'",
     "output_type": "error",
     "traceback": [
      "\u001b[1;31m---------------------------------------------------------------------------\u001b[0m",
      "\u001b[1;31mModuleNotFoundError\u001b[0m                       Traceback (most recent call last)",
      "\u001b[1;32m~\\AppData\\Local\\Temp/ipykernel_3756/3678289302.py\u001b[0m in \u001b[0;36m<module>\u001b[1;34m\u001b[0m\n\u001b[0;32m      1\u001b[0m \u001b[1;31m#import lightgbm as lgb\u001b[0m\u001b[1;33m\u001b[0m\u001b[1;33m\u001b[0m\u001b[0m\n\u001b[1;32m----> 2\u001b[1;33m \u001b[1;32mimport\u001b[0m \u001b[0mxgboost\u001b[0m \u001b[1;32mas\u001b[0m \u001b[0mxgb\u001b[0m\u001b[1;33m\u001b[0m\u001b[1;33m\u001b[0m\u001b[0m\n\u001b[0m\u001b[0;32m      3\u001b[0m \u001b[1;33m\u001b[0m\u001b[0m\n\u001b[0;32m      4\u001b[0m \u001b[1;33m\u001b[0m\u001b[0m\n\u001b[0;32m      5\u001b[0m xg=xgb.XGBClassifier(max_depth=7,learning_rate=0.05,\n",
      "\u001b[1;31mModuleNotFoundError\u001b[0m: No module named 'xgboost'"
     ]
    }
   ],
   "source": [
    "#import lightgbm as lgb\n",
    "import xgboost as xgb\n",
    "\n",
    "\n",
    "xg=xgb.XGBClassifier(max_depth=7,learning_rate=0.05,\n",
    "                     silent=1,eta=1,objective='multi:softprob',\n",
    "                     num_round=50,num_classes=6)\n",
    "\n",
    "xg.fit(X_train_scale , y_train_ros)\n",
    "ypred_xgb=xg.predict(X_test_scaled) \n",
    "ypred_xgb\n",
    "\n",
    "accuracy_xgb = accuracy_score(y_test,ypred_xgb)\n",
    "\n",
    "\n"
   ]
  },
  {
   "cell_type": "code",
   "execution_count": null,
   "id": "c9c87659",
   "metadata": {},
   "outputs": [],
   "source": [
    "data_train = lgb.Dataset(X_train_scale ,label = y_train_ros)\n",
    "params= {}\n",
    "  \n",
    "# Usually set between 0 to 1.\n",
    "params['learning_rate']=0.5 \n",
    "  \n",
    "# GradientBoostingDecisionTree\n",
    "params['boosting_type']='gbdt' \n",
    "  \n",
    "# Multi-class since the target class has 6 classes.\n",
    "params['objective']='multiclass' \n",
    "  \n",
    "# Metric for multi-class\n",
    "params['metric']='multi_logloss' \n",
    "params['max_depth']=7\n",
    "params['num_class']=7 \n",
    "  \n",
    "# This value is not inclusive of the end value.\n",
    "# Hence we have 6 classes the value is set to 7.\n",
    "  \n",
    "# Training the LightGBM Model\n",
    "num_round =50\n",
    "start = time.time()\n",
    "lgbm = lgb.train(params,data_train,num_round)\n",
    "stop = time.time()\n",
    "  \n",
    "#Execution time of the LightGBM Model\n",
    "exec_time_lgbm = stop-start\n",
    "exec_time_lgbm\n",
    "  \n",
    "# Predicting the output on the Test Dataset \n",
    "ypred_lgbm = lgbm.predict(X_test_scaled)\n",
    "ypred_lgbm\n",
    "y_pred_lgbm_class = [np.argmax(line) for line in ypred_lgbm]"
   ]
  },
  {
   "cell_type": "code",
   "execution_count": null,
   "id": "36d8765d",
   "metadata": {},
   "outputs": [],
   "source": [
    "# Accuracy Score for the LightGBM Model\n",
    "from sklearn.metrics import accuracy_score\n",
    "accuracy_lgbm=accuracy_score(y_test,y_pred_lgbm_class)\n",
    "\n",
    "# Comparing the Accuracy and Execution Time for both the Algorithms\n",
    "comparison = {'Accuracy:':(accuracy_lgbm,accuracy_xgb),\\\n",
    "\t\t\t'Execution Time(in seconds):':(exec_time_lgbm,exec_time_xgb)}\n",
    "LGBM_XGB = pd.DataFrame(comparison)\n",
    "LGBM_XGB .index = ['LightGBM','XGBoost']\n",
    "LGBM_XGB\n",
    "\n",
    "# On comparison we notice that LightGBM is\n",
    "# faster and gives better accuracy.\n",
    "comp_ratio=(203.594708/29.443264)\n",
    "comp_ratio\n",
    "print(\"LightGBM is \"+\" \"+str(np.ceil(comp_ratio))+\" \"+\\\n",
    "\tstr(\"times\")+\" \"+\"faster than XGBOOST Algorithm\")\n"
   ]
  },
  {
   "cell_type": "code",
   "execution_count": null,
   "id": "ba16db80",
   "metadata": {},
   "outputs": [],
   "source": []
  }
 ],
 "metadata": {
  "kernelspec": {
   "display_name": "Python 3 (ipykernel)",
   "language": "python",
   "name": "python3"
  },
  "language_info": {
   "codemirror_mode": {
    "name": "ipython",
    "version": 3
   },
   "file_extension": ".py",
   "mimetype": "text/x-python",
   "name": "python",
   "nbconvert_exporter": "python",
   "pygments_lexer": "ipython3",
   "version": "3.9.7"
  }
 },
 "nbformat": 4,
 "nbformat_minor": 5
}
